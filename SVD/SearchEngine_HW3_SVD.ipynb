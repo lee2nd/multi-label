{
 "cells": [
  {
   "cell_type": "code",
   "execution_count": 1,
   "metadata": {},
   "outputs": [],
   "source": [
    "import json\n",
    "import math\n",
    "import nltk\n",
    "from nltk.corpus import stopwords \n",
    "from nltk.tokenize import word_tokenize, sent_tokenize\n",
    "from nltk.corpus import stopwords\n",
    "from nltk.stem import PorterStemmer\n",
    "from nltk import bigrams\n",
    "from nltk import FreqDist\n",
    "from nltk import ngrams\n",
    "import numpy as np"
   ]
  },
  {
   "cell_type": "markdown",
   "metadata": {},
   "source": [
    "# Preprocess"
   ]
  },
  {
   "cell_type": "code",
   "execution_count": 2,
   "metadata": {},
   "outputs": [
    {
     "name": "stderr",
     "output_type": "stream",
     "text": [
      "[nltk_data] Downloading package punkt to /Users/tim/nltk_data...\n",
      "[nltk_data]   Package punkt is already up-to-date!\n",
      "[nltk_data] Downloading package stopwords to /Users/tim/nltk_data...\n",
      "[nltk_data]   Package stopwords is already up-to-date!\n"
     ]
    },
    {
     "data": {
      "text/plain": [
       "True"
      ]
     },
     "execution_count": 2,
     "metadata": {},
     "output_type": "execute_result"
    }
   ],
   "source": [
    "nltk.download('punkt')\n",
    "nltk.download('stopwords')"
   ]
  },
  {
   "cell_type": "code",
   "execution_count": 3,
   "metadata": {},
   "outputs": [],
   "source": [
    "with open('./paper.json', 'r') as f:\n",
    "    papers = json.load(f)"
   ]
  },
  {
   "cell_type": "code",
   "execution_count": 4,
   "metadata": {},
   "outputs": [],
   "source": [
    "papers_50 = papers[0:50]"
   ]
  },
  {
   "cell_type": "code",
   "execution_count": 5,
   "metadata": {},
   "outputs": [
    {
     "data": {
      "text/plain": [
       "50"
      ]
     },
     "execution_count": 5,
     "metadata": {},
     "output_type": "execute_result"
    }
   ],
   "source": [
    "len(papers_50)"
   ]
  },
  {
   "cell_type": "code",
   "execution_count": 6,
   "metadata": {},
   "outputs": [],
   "source": [
    "def get_stemmed_tokens(string_source):\n",
    "    # word tokenize after lower the string\n",
    "    word_tokens = word_tokenize(string_source.lower())\n",
    "    # remove the punctuations\n",
    "    word_tokens = [word.lower() for word in word_tokens if word.isalpha()]\n",
    "    # stop words filter\n",
    "    stop_words = set(stopwords.words('english'))\n",
    "    filtered_tokens = [w for w in word_tokens if not w in stop_words]\n",
    "    # stemming\n",
    "    stemmer = PorterStemmer()\n",
    "    stemmed_tokens = [stemmer.stem(word) for word in filtered_tokens]\n",
    "    return stemmed_tokens"
   ]
  },
  {
   "cell_type": "code",
   "execution_count": 7,
   "metadata": {},
   "outputs": [],
   "source": [
    "paper_token_freq = []\n",
    "tokens = set()\n",
    "for index in range(len(papers_50)):\n",
    "    # print(index)\n",
    "    paper_abstract = papers_50[index]['abstract']\n",
    "    stemmed_tokens = get_stemmed_tokens(paper_abstract)\n",
    "    token_freq = dict()\n",
    "    # print(stemmed_tokens)\n",
    "    # count the tokens in the stemmed_tokens\n",
    "    for token in stemmed_tokens:\n",
    "        tokens.add(token)\n",
    "        if token in token_freq.keys():\n",
    "            token_freq[token] = token_freq[token] + 1\n",
    "        else:\n",
    "            token_freq[token] = 1\n",
    "    token_freq_sorted = sorted(token_freq.items(), key=lambda kv:kv[1], reverse=True)\n",
    "    paper_token_freq.append(token_freq_sorted)"
   ]
  },
  {
   "cell_type": "code",
   "execution_count": 10,
   "metadata": {},
   "outputs": [
    {
     "data": {
      "text/plain": [
       "('model', 5)"
      ]
     },
     "execution_count": 10,
     "metadata": {},
     "output_type": "execute_result"
    }
   ],
   "source": [
    "paper_token_freq[0][0]"
   ]
  },
  {
   "cell_type": "code",
   "execution_count": null,
   "metadata": {},
   "outputs": [],
   "source": []
  },
  {
   "cell_type": "code",
   "execution_count": 11,
   "metadata": {},
   "outputs": [],
   "source": [
    "token2index = dict()\n",
    "count = 0\n",
    "for token in tokens:\n",
    "    token2index[token] = count\n",
    "    count = count + 1"
   ]
  },
  {
   "cell_type": "code",
   "execution_count": 12,
   "metadata": {},
   "outputs": [
    {
     "data": {
      "text/plain": [
       "(1094, 50)"
      ]
     },
     "execution_count": 12,
     "metadata": {},
     "output_type": "execute_result"
    }
   ],
   "source": [
    "# create the term-doc matrix\n",
    "\n",
    "term_doc_mat = np.zeros([len(tokens), len(papers_50)])\n",
    "term_doc_mat.shape"
   ]
  },
  {
   "cell_type": "code",
   "execution_count": 13,
   "metadata": {},
   "outputs": [
    {
     "data": {
      "text/plain": [
       "'model'"
      ]
     },
     "execution_count": 13,
     "metadata": {},
     "output_type": "execute_result"
    }
   ],
   "source": [
    "paper_token_freq[0][0][0]"
   ]
  },
  {
   "cell_type": "code",
   "execution_count": 97,
   "metadata": {},
   "outputs": [],
   "source": [
    "for paper_index in range(len(paper_token_freq)):\n",
    "    # print(paper_index)\n",
    "    for token_freq in paper_token_freq[paper_index]:\n",
    "        # print(token_freq)\n",
    "        token = token_freq[0]\n",
    "        freq = token_freq[1]\n",
    "        token_index = token2index[token]\n",
    "        # print(paper_index, token, token_index, freq)\n",
    "        term_doc_mat[token_index][paper_index] = freq"
   ]
  },
  {
   "cell_type": "markdown",
   "metadata": {},
   "source": [
    "#### normalize"
   ]
  },
  {
   "cell_type": "code",
   "execution_count": 16,
   "metadata": {},
   "outputs": [],
   "source": [
    "for c in range(term_doc_mat.shape[1]):\n",
    "    l2_norm = np.linalg.norm(term_doc_mat[:,c])\n",
    "    # print(c, l2_norm)\n",
    "    term_doc_mat[:,c] = term_doc_mat[:,c]/l2_norm"
   ]
  },
  {
   "cell_type": "code",
   "execution_count": 19,
   "metadata": {},
   "outputs": [
    {
     "data": {
      "text/plain": [
       "array([0.        , 0.        , 0.        , 0.17609018, 0.        ,\n",
       "       0.        , 0.        , 0.        , 0.15476465, 0.        ,\n",
       "       0.        , 0.        , 0.        , 0.        , 0.        ,\n",
       "       0.        , 0.        , 0.        , 0.        , 0.        ,\n",
       "       0.        , 0.        , 0.        , 0.        , 0.        ,\n",
       "       0.        , 0.        , 0.1062988 , 0.        , 0.07495317,\n",
       "       0.        , 0.        , 0.        , 0.        , 0.        ,\n",
       "       0.        , 0.07018624, 0.        , 0.        , 0.        ,\n",
       "       0.        , 0.        , 0.        , 0.        , 0.        ,\n",
       "       0.        , 0.58658846, 0.        , 0.        , 0.        ])"
      ]
     },
     "execution_count": 19,
     "metadata": {},
     "output_type": "execute_result"
    }
   ],
   "source": [
    "term_doc_mat[token2index['knowledg']]"
   ]
  },
  {
   "cell_type": "code",
   "execution_count": 20,
   "metadata": {},
   "outputs": [
    {
     "data": {
      "text/plain": [
       "array([0.37796447, 0.        , 0.        , 0.17609018, 0.41812101,\n",
       "       0.20412415, 0.        , 0.21428571, 0.38691162, 0.15665209,\n",
       "       0.        , 0.3592106 , 0.        , 0.        , 0.32929278,\n",
       "       0.28603878, 0.51116565, 0.12171612, 0.17087153, 0.31980107,\n",
       "       0.0751646 , 0.1069045 , 0.14704292, 0.21997067, 0.4       ,\n",
       "       0.19156526, 0.28074496, 0.6909422 , 0.42874646, 0.14990634,\n",
       "       0.29704426, 0.10482848, 0.09053575, 0.31799936, 0.4417261 ,\n",
       "       0.        , 0.3509312 , 0.24174689, 0.24019223, 0.3125    ,\n",
       "       0.08421519, 0.        , 0.29488391, 0.19900744, 0.        ,\n",
       "       0.1833397 , 0.14664712, 0.        , 0.38124643, 0.        ])"
      ]
     },
     "execution_count": 20,
     "metadata": {},
     "output_type": "execute_result"
    }
   ],
   "source": [
    "term_doc_mat[token2index['model']]"
   ]
  },
  {
   "cell_type": "markdown",
   "metadata": {},
   "source": [
    "# SVD"
   ]
  },
  {
   "cell_type": "code",
   "execution_count": 26,
   "metadata": {},
   "outputs": [],
   "source": [
    "u, s, vh = np.linalg.svd(term_doc_mat, full_matrices=False)"
   ]
  },
  {
   "cell_type": "code",
   "execution_count": 27,
   "metadata": {},
   "outputs": [
    {
     "data": {
      "text/plain": [
       "array([2.86096186, 1.3653995 , 1.27032358, 1.22987015, 1.19443846,\n",
       "       1.17806692, 1.15387011, 1.12738649, 1.09528575, 1.07138045,\n",
       "       1.06540577, 1.05129034, 1.04110368, 1.01120723, 0.99593028,\n",
       "       0.98741442, 0.97725382, 0.9746004 , 0.96690456, 0.94757842,\n",
       "       0.93954294, 0.93568809, 0.92170802, 0.91380586, 0.89307389,\n",
       "       0.88637231, 0.88359827, 0.87342525, 0.85572452, 0.84734158,\n",
       "       0.8404466 , 0.83379732, 0.8260985 , 0.81362107, 0.79924362,\n",
       "       0.7853955 , 0.77452919, 0.77164883, 0.76060635, 0.74874168,\n",
       "       0.73608489, 0.72600944, 0.71404007, 0.70582593, 0.69096365,\n",
       "       0.686157  , 0.66801739, 0.66629895, 0.61695201, 0.59705741])"
      ]
     },
     "execution_count": 27,
     "metadata": {},
     "output_type": "execute_result"
    }
   ],
   "source": [
    "s"
   ]
  },
  {
   "cell_type": "code",
   "execution_count": 28,
   "metadata": {},
   "outputs": [
    {
     "name": "stdout",
     "output_type": "stream",
     "text": [
      "(1094, 50) (50,) (50, 50)\n"
     ]
    }
   ],
   "source": [
    "print(u.shape, s.shape, vh.shape)"
   ]
  },
  {
   "cell_type": "code",
   "execution_count": 36,
   "metadata": {},
   "outputs": [],
   "source": [
    "u_2 = u[:,0:2]\n",
    "s_2 = s[0:2]\n",
    "vh_2 = vh[0:2,:]"
   ]
  },
  {
   "cell_type": "code",
   "execution_count": 41,
   "metadata": {},
   "outputs": [
    {
     "data": {
      "text/plain": [
       "(1094, 2)"
      ]
     },
     "execution_count": 41,
     "metadata": {},
     "output_type": "execute_result"
    }
   ],
   "source": [
    "u_2.shape"
   ]
  },
  {
   "cell_type": "code",
   "execution_count": 42,
   "metadata": {},
   "outputs": [
    {
     "data": {
      "text/plain": [
       "array([2.86096186, 1.3653995 ])"
      ]
     },
     "execution_count": 42,
     "metadata": {},
     "output_type": "execute_result"
    }
   ],
   "source": [
    "s_2"
   ]
  },
  {
   "cell_type": "code",
   "execution_count": 43,
   "metadata": {},
   "outputs": [
    {
     "data": {
      "text/plain": [
       "(2, 50)"
      ]
     },
     "execution_count": 43,
     "metadata": {},
     "output_type": "execute_result"
    }
   ],
   "source": [
    "vh_2.shape"
   ]
  },
  {
   "cell_type": "code",
   "execution_count": 44,
   "metadata": {},
   "outputs": [],
   "source": [
    "# reconstrut with rank 2\n",
    "term_doc_mat_2 = np.dot(u_2 * s_2, vh_2)"
   ]
  },
  {
   "cell_type": "code",
   "execution_count": 45,
   "metadata": {},
   "outputs": [
    {
     "data": {
      "text/plain": [
       "array([ 0.00697243, -0.00811431, -0.00532235, -0.00197454,  0.01068318,\n",
       "        0.01161913, -0.00696591,  0.00165031,  0.01174326,  0.00252241,\n",
       "       -0.00302361,  0.00626328, -0.00662105, -0.00510015,  0.00715214,\n",
       "        0.00948894,  0.01572016,  0.00134019,  0.00123861,  0.01114175,\n",
       "       -0.00267239,  0.00181414, -0.00027136,  0.002495  ,  0.01233359,\n",
       "       -0.00246744,  0.00804274,  0.01885076,  0.01393888,  0.00703787,\n",
       "        0.00495371, -0.00535733,  0.00105639,  0.00753421,  0.00779568,\n",
       "       -0.00420969,  0.00738203,  0.00787108,  0.00575727,  0.00886788,\n",
       "       -0.00077753, -0.00350003,  0.0094726 ,  0.00162726, -0.0034297 ,\n",
       "        0.00411899,  0.00239836, -0.00826835,  0.00897435, -0.00476588])"
      ]
     },
     "execution_count": 45,
     "metadata": {},
     "output_type": "execute_result"
    }
   ],
   "source": [
    "term_doc_mat_2[0]"
   ]
  },
  {
   "cell_type": "code",
   "execution_count": 46,
   "metadata": {},
   "outputs": [
    {
     "data": {
      "text/plain": [
       "(1094, 50)"
      ]
     },
     "execution_count": 46,
     "metadata": {},
     "output_type": "execute_result"
    }
   ],
   "source": [
    "term_doc_mat_2.shape"
   ]
  },
  {
   "cell_type": "markdown",
   "metadata": {},
   "source": [
    "# Query"
   ]
  },
  {
   "cell_type": "code",
   "execution_count": 32,
   "metadata": {},
   "outputs": [
    {
     "data": {
      "text/plain": [
       "['knowledg', 'graph']"
      ]
     },
     "execution_count": 32,
     "metadata": {},
     "output_type": "execute_result"
    }
   ],
   "source": [
    "query = get_stemmed_tokens('knowledge graph')\n",
    "query"
   ]
  },
  {
   "cell_type": "code",
   "execution_count": 33,
   "metadata": {},
   "outputs": [
    {
     "data": {
      "text/plain": [
       "(1094,)"
      ]
     },
     "execution_count": 33,
     "metadata": {},
     "output_type": "execute_result"
    }
   ],
   "source": [
    "query_vec = np.zeros([term_doc_mat_2.shape[0]])\n",
    "query_vec.shape"
   ]
  },
  {
   "cell_type": "code",
   "execution_count": 34,
   "metadata": {},
   "outputs": [],
   "source": [
    "query_vec[token2index['knowledg']] = 1.0\n",
    "query_vec[token2index['graph']] = 1.0"
   ]
  },
  {
   "cell_type": "code",
   "execution_count": 35,
   "metadata": {},
   "outputs": [
    {
     "name": "stdout",
     "output_type": "stream",
     "text": [
      "1.0 1.0\n"
     ]
    }
   ],
   "source": [
    "print(query_vec[token2index['knowledg']], query_vec[token2index['graph']])"
   ]
  },
  {
   "cell_type": "code",
   "execution_count": null,
   "metadata": {},
   "outputs": [],
   "source": []
  },
  {
   "cell_type": "markdown",
   "metadata": {},
   "source": [
    "# Mapping query to rank-2 space"
   ]
  },
  {
   "cell_type": "code",
   "execution_count": 49,
   "metadata": {},
   "outputs": [
    {
     "data": {
      "text/plain": [
       "array([[2.86096186, 0.        ],\n",
       "       [0.        , 1.3653995 ]])"
      ]
     },
     "execution_count": 49,
     "metadata": {},
     "output_type": "execute_result"
    }
   ],
   "source": [
    "s_2_mat = np.diag(s_2)\n",
    "s_2_mat"
   ]
  },
  {
   "cell_type": "code",
   "execution_count": 50,
   "metadata": {},
   "outputs": [
    {
     "data": {
      "text/plain": [
       "array([[0.3495328 , 0.        ],\n",
       "       [0.        , 0.73238638]])"
      ]
     },
     "execution_count": 50,
     "metadata": {},
     "output_type": "execute_result"
    }
   ],
   "source": [
    "# compute the inv of s_2\n",
    "s_inv = np.linalg.inv(s_2_mat)\n",
    "s_inv"
   ]
  },
  {
   "cell_type": "code",
   "execution_count": null,
   "metadata": {},
   "outputs": [],
   "source": [
    "u d t(v)"
   ]
  },
  {
   "cell_type": "code",
   "execution_count": 53,
   "metadata": {},
   "outputs": [
    {
     "data": {
      "text/plain": [
       "array([-0.0371808 , -0.04075829])"
      ]
     },
     "execution_count": 53,
     "metadata": {},
     "output_type": "execute_result"
    }
   ],
   "source": [
    "query_vec_2 = np.dot(np.dot(query_vec.T, u_2), s_inv)\n",
    "query_vec_2"
   ]
  },
  {
   "cell_type": "code",
   "execution_count": null,
   "metadata": {},
   "outputs": [],
   "source": []
  },
  {
   "cell_type": "markdown",
   "metadata": {},
   "source": [
    "# Compute cos"
   ]
  },
  {
   "cell_type": "code",
   "execution_count": 56,
   "metadata": {},
   "outputs": [
    {
     "data": {
      "text/plain": [
       "(2, 50)"
      ]
     },
     "execution_count": 56,
     "metadata": {},
     "output_type": "execute_result"
    }
   ],
   "source": [
    "vh_2.shape"
   ]
  },
  {
   "cell_type": "code",
   "execution_count": 67,
   "metadata": {},
   "outputs": [
    {
     "data": {
      "text/plain": [
       "(50,)"
      ]
     },
     "execution_count": 67,
     "metadata": {},
     "output_type": "execute_result"
    }
   ],
   "source": [
    "# compute inner product\n",
    "np.dot(query_vec_2, vh_2).shape"
   ]
  },
  {
   "cell_type": "code",
   "execution_count": 57,
   "metadata": {},
   "outputs": [
    {
     "data": {
      "text/plain": [
       "(50,)"
      ]
     },
     "execution_count": 57,
     "metadata": {},
     "output_type": "execute_result"
    }
   ],
   "source": [
    "np.dot(query_vec_2, vh_2).shape"
   ]
  },
  {
   "cell_type": "code",
   "execution_count": 58,
   "metadata": {},
   "outputs": [
    {
     "data": {
      "text/plain": [
       "(2,)"
      ]
     },
     "execution_count": 58,
     "metadata": {},
     "output_type": "execute_result"
    }
   ],
   "source": [
    "query_vec_2.shape"
   ]
  },
  {
   "cell_type": "code",
   "execution_count": 61,
   "metadata": {},
   "outputs": [
    {
     "data": {
      "text/plain": [
       "array([-0.0371808 , -0.04075829])"
      ]
     },
     "execution_count": 61,
     "metadata": {},
     "output_type": "execute_result"
    }
   ],
   "source": [
    "query_vec_2"
   ]
  },
  {
   "cell_type": "code",
   "execution_count": 60,
   "metadata": {},
   "outputs": [
    {
     "data": {
      "text/plain": [
       "0.05516928648255209"
      ]
     },
     "execution_count": 60,
     "metadata": {},
     "output_type": "execute_result"
    }
   ],
   "source": [
    "# compute l2_norm of query\n",
    "query_vec_2_norm = np.linalg.norm(query_vec_2)\n",
    "query_vec_2_norm"
   ]
  },
  {
   "cell_type": "code",
   "execution_count": 66,
   "metadata": {},
   "outputs": [
    {
     "data": {
      "text/plain": [
       "array([0.20174977, 0.27456174, 0.22248241, 0.24983308, 0.2174912 ,\n",
       "       0.22078464, 0.25952688, 0.14012625, 0.22746821, 0.1325822 ,\n",
       "       0.14369121, 0.17456237, 0.21062667, 0.21443231, 0.18055046,\n",
       "       0.17967539, 0.29752757, 0.08367503, 0.15293573, 0.21410344,\n",
       "       0.14629374, 0.1018657 , 0.20775419, 0.17301232, 0.23878486,\n",
       "       0.23394927, 0.16703174, 0.3567018 , 0.26609081, 0.14403617,\n",
       "       0.15051523, 0.25865527, 0.16531627, 0.19507977, 0.185571  ,\n",
       "       0.14652253, 0.22480121, 0.15222304, 0.12488625, 0.16981437,\n",
       "       0.18091916, 0.15457465, 0.17922928, 0.15072183, 0.1792327 ,\n",
       "       0.1265568 , 0.13909051, 0.30391799, 0.20642174, 0.20569964])"
      ]
     },
     "execution_count": 66,
     "metadata": {},
     "output_type": "execute_result"
    }
   ],
   "source": [
    "# compute l2_norm of vh_2\n",
    "vh_2_norm = np.linalg.norm(vh_2, axis=0)\n",
    "vh_2_norm"
   ]
  },
  {
   "cell_type": "code",
   "execution_count": 69,
   "metadata": {},
   "outputs": [
    {
     "data": {
      "text/plain": [
       "(50,)"
      ]
     },
     "execution_count": 69,
     "metadata": {},
     "output_type": "execute_result"
    }
   ],
   "source": [
    "(query_vec_2_norm * vh_2_norm).shape"
   ]
  },
  {
   "cell_type": "code",
   "execution_count": null,
   "metadata": {},
   "outputs": [],
   "source": []
  },
  {
   "cell_type": "code",
   "execution_count": 70,
   "metadata": {},
   "outputs": [],
   "source": [
    "# compute cos\n",
    "similarities = np.dot(query_vec_2, vh_2) / (query_vec_2_norm * vh_2_norm)"
   ]
  },
  {
   "cell_type": "code",
   "execution_count": 71,
   "metadata": {},
   "outputs": [
    {
     "data": {
      "text/plain": [
       "array([ 0.70514207, -0.49991428, -0.38925342, -0.08012003,  0.95290003,\n",
       "        0.98686457, -0.44644639,  0.29037549,  0.98937496,  0.42425238,\n",
       "       -0.33310164,  0.7284993 , -0.53717996, -0.38655397,  0.79391288,\n",
       "        0.99952375,  0.99554765,  0.36886327,  0.22187839,  0.99441873,\n",
       "       -0.27925277,  0.40189678,  0.04516554,  0.33937997,  0.98970219,\n",
       "       -0.1306334 ,  0.93762527,  0.99656906,  0.99799914,  0.94886865,\n",
       "        0.6758419 , -0.32668208,  0.18993838,  0.77663652,  0.83528603,\n",
       "       -0.48366097,  0.67452861,  0.99041457,  0.90427789,  0.9964103 ,\n",
       "       -0.01150859, -0.36427163,  0.99755822,  0.27214636, -0.29607251,\n",
       "        0.66933092,  0.39147694, -0.45362384,  0.86030206, -0.3745371 ])"
      ]
     },
     "execution_count": 71,
     "metadata": {},
     "output_type": "execute_result"
    }
   ],
   "source": [
    "similarities"
   ]
  },
  {
   "cell_type": "markdown",
   "metadata": {},
   "source": [
    "# Sort and rank"
   ]
  },
  {
   "cell_type": "code",
   "execution_count": 72,
   "metadata": {},
   "outputs": [
    {
     "data": {
      "text/plain": [
       "array([15, 28, 42, 27, 39, 16, 19, 37, 24,  8,  5,  4, 29, 26, 38, 48, 34,\n",
       "       14, 33, 11,  0, 30, 36, 45,  9, 21, 46, 17, 23,  7, 43, 18, 32, 22,\n",
       "       40,  3, 25, 20, 44, 31, 10, 41, 49, 13,  2,  6, 47, 35,  1, 12])"
      ]
     },
     "execution_count": 72,
     "metadata": {},
     "output_type": "execute_result"
    }
   ],
   "source": [
    "(-similarities).argsort()"
   ]
  },
  {
   "cell_type": "code",
   "execution_count": null,
   "metadata": {},
   "outputs": [],
   "source": []
  },
  {
   "cell_type": "markdown",
   "metadata": {},
   "source": [
    "# Plot"
   ]
  },
  {
   "cell_type": "code",
   "execution_count": 74,
   "metadata": {},
   "outputs": [
    {
     "data": {
      "text/plain": [
       "((1094, 2), (2, 50), (2,))"
      ]
     },
     "execution_count": 74,
     "metadata": {},
     "output_type": "execute_result"
    }
   ],
   "source": [
    "u_2.shape, vh_2.shape, query_vec_2.shape"
   ]
  },
  {
   "cell_type": "code",
   "execution_count": 80,
   "metadata": {},
   "outputs": [
    {
     "data": {
      "text/plain": [
       "(50,)"
      ]
     },
     "execution_count": 80,
     "metadata": {},
     "output_type": "execute_result"
    }
   ],
   "source": [
    "vh_2[0,:].shape"
   ]
  },
  {
   "cell_type": "code",
   "execution_count": null,
   "metadata": {},
   "outputs": [],
   "source": []
  },
  {
   "cell_type": "code",
   "execution_count": 76,
   "metadata": {},
   "outputs": [],
   "source": [
    "import matplotlib.pyplot as plt"
   ]
  },
  {
   "cell_type": "code",
   "execution_count": 96,
   "metadata": {},
   "outputs": [
    {
     "data": {
      "image/png": "[encoded data removed]",
      "text/plain": [
       "<Figure size 432x288 with 1 Axes>"
      ]
     },
     "metadata": {
      "needs_background": "light"
     },
     "output_type": "display_data"
    }
   ],
   "source": [
    "plt.scatter(u_2[:,0], u_2[:,1], c='red', s=4)\n",
    "plt.show()"
   ]
  },
  {
   "cell_type": "code",
   "execution_count": 95,
   "metadata": {},
   "outputs": [
    {
     "data": {
      "image/png": "[encoded data removed]",
      "text/plain": [
       "<Figure size 432x288 with 1 Axes>"
      ]
     },
     "metadata": {
      "needs_background": "light"
     },
     "output_type": "display_data"
    }
   ],
   "source": [
    "plt.scatter(vh_2[0,:], vh_2[1,:], c='blue', s=5, label='Document')\n",
    "plt.scatter(query_vec_2[0], query_vec_2[1], c='red', s=10, label='Query')\n",
    "plt.legend(loc='lower right')\n",
    "plt.show()"
   ]
  },
  {
   "cell_type": "code",
   "execution_count": null,
   "metadata": {},
   "outputs": [],
   "source": []
  },
  {
   "cell_type": "markdown",
   "metadata": {},
   "source": [
    "### Useful debugging code"
   ]
  },
  {
   "cell_type": "code",
   "execution_count": 29,
   "metadata": {},
   "outputs": [],
   "source": [
    "similaries = []\n",
    "for i in range(term_doc_mat.shape[1]):\n",
    "    s = np.dot(query_vec, term_doc_mat[:,i]) / (np.linalg.norm(query_vec) * np.linalg.norm(term_doc_mat[:,i]))\n",
    "    # print(i,s)\n",
    "    similaries.append(s)"
   ]
  },
  {
   "cell_type": "code",
   "execution_count": 30,
   "metadata": {},
   "outputs": [
    {
     "data": {
      "text/plain": [
       "array([46,  3,  8, 27, 29, 36,  0, 28, 30, 31, 32, 33, 34, 35, 38, 39, 40,\n",
       "       41, 42, 43, 44, 45, 47, 37, 26, 24, 48,  1,  2,  4,  5,  6,  7,  9,\n",
       "       10, 11, 12, 13, 14, 15, 16, 17, 18, 19, 20, 21, 22, 23, 25, 49])"
      ]
     },
     "execution_count": 30,
     "metadata": {},
     "output_type": "execute_result"
    }
   ],
   "source": [
    "sim = np.array(similaries)\n",
    "(-sim).argsort()"
   ]
  },
  {
   "cell_type": "code",
   "execution_count": 73,
   "metadata": {},
   "outputs": [
    {
     "data": {
      "text/plain": [
       "[('depress', 4),\n",
       " ('interview', 4),\n",
       " ('model', 3),\n",
       " ('latent', 3),\n",
       " ('assess', 2),\n",
       " ('pattern', 2),\n",
       " ('propos', 2),\n",
       " ('categor', 2),\n",
       " ('prompt', 2),\n",
       " ('categori', 2),\n",
       " ('accur', 1),\n",
       " ('diagnos', 1),\n",
       " ('requir', 1),\n",
       " ('analysi', 1),\n",
       " ('henc', 1),\n",
       " ('autom', 1),\n",
       " ('method', 1),\n",
       " ('linguist', 1),\n",
       " ('could', 1),\n",
       " ('help', 1),\n",
       " ('psychiatr', 1),\n",
       " ('profession', 1),\n",
       " ('make', 1),\n",
       " ('faster', 1),\n",
       " ('inform', 1),\n",
       " ('decis', 1),\n",
       " ('diagnosi', 1),\n",
       " ('jlpc', 1),\n",
       " ('analyz', 1),\n",
       " ('transcript', 1),\n",
       " ('identifi', 1),\n",
       " ('jointli', 1),\n",
       " ('allow', 1),\n",
       " ('defin', 1),\n",
       " ('convers', 1),\n",
       " ('context', 1),\n",
       " ('influenc', 1),\n",
       " ('languag', 1),\n",
       " ('individu', 1),\n",
       " ('show', 1),\n",
       " ('outperform', 1),\n",
       " ('competit', 1),\n",
       " ('baselin', 1),\n",
       " ('provid', 1),\n",
       " ('psycholinguist', 1),\n",
       " ('insight', 1)]"
      ]
     },
     "execution_count": 73,
     "metadata": {},
     "output_type": "execute_result"
    }
   ],
   "source": [
    "paper_token_freq[15]"
   ]
  },
  {
   "cell_type": "code",
   "execution_count": null,
   "metadata": {},
   "outputs": [],
   "source": []
  }
 ],
 "metadata": {
  "kernelspec": {
   "display_name": "Python 3",
   "language": "python",
   "name": "python3"
  },
  "language_info": {
   "codemirror_mode": {
    "name": "ipython",
    "version": 3
   },
   "file_extension": ".py",
   "mimetype": "text/x-python",
   "name": "python",
   "nbconvert_exporter": "python",
   "pygments_lexer": "ipython3",
   "version": "3.7.4"
  }
 },
 "nbformat": 4,
 "nbformat_minor": 4
}
